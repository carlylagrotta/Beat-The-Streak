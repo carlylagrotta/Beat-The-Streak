{
 "cells": [
  {
   "cell_type": "markdown",
   "metadata": {},
   "source": [
    "## Creating Individual Player CSV Files From Savant"
   ]
  },
  {
   "cell_type": "markdown",
   "metadata": {},
   "source": [
    "### Importing required libraries"
   ]
  },
  {
   "cell_type": "code",
   "execution_count": 1,
   "metadata": {},
   "outputs": [],
   "source": [
    "import pandas as pd\n",
    "import numpy as np\n",
    "import os\n",
    "import time"
   ]
  },
  {
   "cell_type": "markdown",
   "metadata": {},
   "source": [
    "### Define the path for dated box office data is stored as well as the path to write the individual player files to\n",
    "<b><u> Note: </u></b> The path structure must be as follows. Also note that 201X directories are empty directories created to have individual player files written to them by year.:\n",
    "- File_path_to_data_directory\n",
    "    - Box_Office\n",
    "        - 2015_Savant\n",
    "        - 2015_Savant_Individual_Players\n",
    "        - 2016_Savant\n",
    "        - 2016_Savant_Individual_Players\n",
    "        - 2017_Savant\n",
    "        - 2017_Savant_Individual_Players\n",
    "        - 2018_Savant\n",
    "        - 2018_Savant_Individual_Players\n",
    "        - 2019_Savannt\n",
    "        - 2019_Savant_Individual_Players"
   ]
  },
  {
   "cell_type": "code",
   "execution_count": null,
   "metadata": {},
   "outputs": [],
   "source": [
    "year = 2016\n",
    "file_path_to_data_directory = '/Users/carlylagrotta/Dropbox/Columbia/Fall_2020_Semester/Data_Science/Data_Science_For_Mechanical_Systems/Savant/'+str(year)+'_Savant'\n",
    "path_to_write = '/Users/carlylagrotta/Dropbox/Columbia/Fall_2020_Semester/Data_Science/Data_Science_For_Mechanical_Systems/Savant/'+str(year)+'_Savant_Individual_Players'"
   ]
  },
  {
   "cell_type": "markdown",
   "metadata": {},
   "source": [
    "### Function to get date from file name\n"
   ]
  },
  {
   "cell_type": "code",
   "execution_count": 2,
   "metadata": {},
   "outputs": [],
   "source": [
    "def get_date_fom_file_string(file_name):\n",
    "\n",
    "    temp = file_name.split('_')[1]    \n",
    "    year = temp.split('-')[0]\n",
    "    month = temp.split('-')[1]\n",
    "    day = temp.split('-')[2]\n",
    "\n",
    "\n",
    "\n",
    "    df = pd.DataFrame({'year': [int(year)],\n",
    "                        'month': [int(month)],\n",
    "                        'day': [int(day)]})\n",
    "    df = pd.to_datetime(df)\n",
    "    date_time = df[0].date()\n",
    "   \n",
    "    return date_time"
   ]
  },
  {
   "cell_type": "markdown",
   "metadata": {},
   "source": [
    "### Function to create a set of batters names for a given season with no repeated names\n"
   ]
  },
  {
   "cell_type": "code",
   "execution_count": 3,
   "metadata": {},
   "outputs": [],
   "source": [
    "def get_list_of_player_names(path):\n",
    "    directory_contents = [ name for name in os.listdir(path) if os.path.isdir(os.path.join(path, name)) ]\n",
    "    player_master_list_2018=[]\n",
    "    for directory in directory_contents:\n",
    "        for i,game in enumerate(os.listdir(path+'/'+str(directory))):\n",
    "            #print((path+'/'+str(directory)))\n",
    "            combined_variable = path+'/'+str(directory)+'/'+str(game)\n",
    "            if combined_variable.endswith('.csv'):\n",
    "                df_temp = pd.read_csv(path+'/'+str(directory)+'/'+str(game))\n",
    "                player_master_list_2018.append(df_temp['Batter'].to_list())\n",
    "\n",
    "\n",
    "    flattened = [val for sublist in player_master_list_2018 for val in sublist]\n",
    "    individual_names=list(set(flattened)) \n",
    "    return individual_names"
   ]
  },
  {
   "cell_type": "markdown",
   "metadata": {},
   "source": [
    "### Function to loop over csv files for individual game dates in a season and create Pandas data frames that are instead specific to individual players (while still storing the date for a specific performance by the player in the file)"
   ]
  },
  {
   "cell_type": "code",
   "execution_count": 4,
   "metadata": {},
   "outputs": [],
   "source": [
    "def get_list_of_player_df(path,individual_names):\n",
    "    directory_contents = [ name for name in os.listdir(path) if os.path.isdir(os.path.join(path, name)) ]\n",
    "\n",
    "    list_of_data_frames=[]\n",
    "    for player_name in individual_names:\n",
    "        player_df = []\n",
    "        for directory in directory_contents:\n",
    "            for i,game in enumerate(os.listdir(path+'/'+str(directory))):\n",
    "                combined_variable = path+'/'+str(directory)+'/'+str(game)\n",
    "                if combined_variable.endswith('.csv'):\n",
    "                    df_temp = pd.read_csv(path+'/'+str(directory)+'/'+str(game))\n",
    "                    df_temp = df_temp.drop(['Unnamed: 0'], axis=1)\n",
    "                    date = get_date_fom_file_string(game)\n",
    "                    df_temp['Date'] = date\n",
    "                    df1 = df_temp[df_temp['Batter'].str.contains(player_name)] \n",
    "                    \n",
    "                    if not df1.empty:\n",
    "                        player_df.append(df1)\n",
    "        list_of_data_frames.append(pd.concat(player_df,ignore_index=True))\n",
    "    return list_of_data_frames"
   ]
  },
  {
   "cell_type": "markdown",
   "metadata": {},
   "source": [
    "### Function to write the player specific data frames to csv files"
   ]
  },
  {
   "cell_type": "code",
   "execution_count": 5,
   "metadata": {},
   "outputs": [],
   "source": [
    "def write_list_of_player_df(path_to_write,list_of_data_frames):\n",
    "    for df in list_of_data_frames:\n",
    "        name = df['Batter'][0]\n",
    "        name = name.replace(\" \", \"_\")\n",
    "        df.to_csv(path_to_write+'/'+name+'.csv')"
   ]
  },
  {
   "cell_type": "markdown",
   "metadata": {},
   "source": [
    "### Calling all functions and running"
   ]
  },
  {
   "cell_type": "code",
   "execution_count": null,
   "metadata": {},
   "outputs": [],
   "source": [
    "individual_names = get_list_of_player_names(file_path_to_data_directory)\n",
    "list_of_data_frames = get_list_of_player_df(file_path_to_data_directory,individual_names)\n",
    "write_list_of_player_df(path_to_write,list_of_data_frames)"
   ]
  },
  {
   "cell_type": "markdown",
   "metadata": {},
   "source": [
    "### Get list of player names from all seasons with no repeats to be used in birthday list"
   ]
  },
  {
   "cell_type": "code",
   "execution_count": 11,
   "metadata": {},
   "outputs": [],
   "source": [
    "def get_list_of_all_player_names(path):\n",
    "    directory_contents = [ name for name in os.listdir(path) if os.path.isdir(os.path.join(path, name)) ]\n",
    "    player_master_list_2018=[]\n",
    "    for directory in directory_contents:\n",
    "        for i,game in enumerate(os.listdir(path+'/'+str(directory))):\n",
    "            combined_variable = path+'/'+str(directory)+'/'+str(game)\n",
    "            if combined_variable.endswith('.csv'):\n",
    "                df_temp = pd.read_csv(path+'/'+str(directory)+'/'+str(game))\n",
    "                player_master_list_2018.append(df_temp['Batter'].to_list())\n",
    "                player_master_list_2018.append(df_temp['Pitcher'].to_list())\n",
    "\n",
    "\n",
    "\n",
    "\n",
    "    flattened = [val for sublist in player_master_list_2018 for val in sublist]\n",
    "    individual_names=list(set(flattened)) \n",
    "    return individual_names"
   ]
  },
  {
   "cell_type": "code",
   "execution_count": 16,
   "metadata": {},
   "outputs": [],
   "source": [
    "individual_names_2015 = get_list_of_all_player_names('/Users/carlylagrotta/Dropbox/Columbia/Fall_2020_Semester/Data_Science/Data_Science_For_Mechanical_Systems/Savant/2015_Savant')\n",
    "individual_names_2016 = get_list_of_all_player_names('/Users/carlylagrotta/Dropbox/Columbia/Fall_2020_Semester/Data_Science/Data_Science_For_Mechanical_Systems/Savant/2016_Savant')\n",
    "individual_names_2017 = get_list_of_all_player_names('/Users/carlylagrotta/Dropbox/Columbia/Fall_2020_Semester/Data_Science/Data_Science_For_Mechanical_Systems/Savant/2017_Savant')\n",
    "individual_names_2018 = get_list_of_all_player_names('/Users/carlylagrotta/Dropbox/Columbia/Fall_2020_Semester/Data_Science/Data_Science_For_Mechanical_Systems/Savant/2018_Savant')\n",
    "individual_names_2019 = get_list_of_all_player_names('/Users/carlylagrotta/Dropbox/Columbia/Fall_2020_Semester/Data_Science/Data_Science_For_Mechanical_Systems/Savant/2019_Savant')\n",
    "master_list = [individual_names_2015+individual_names_2016+individual_names_2017+individual_names_2018+individual_names_2019]\n",
    "flattened = [val for sublist in master_list for val in sublist]\n",
    "individual_names=list(set(flattened)) \n",
    "\n"
   ]
  },
  {
   "cell_type": "markdown",
   "metadata": {},
   "source": [
    "### Write out list for later use"
   ]
  },
  {
   "cell_type": "code",
   "execution_count": 22,
   "metadata": {},
   "outputs": [],
   "source": [
    "df_names = pd.DataFrame(individual_names)\n",
    "df_names.to_csv('/Users/carlylagrotta/Dropbox/Columbia/Fall_2020_Semester/Data_Science/Data_Science_For_Mechanical_Systems/Savant/Player_Birthday_CSV.csv')"
   ]
  }
 ],
 "metadata": {
  "kernelspec": {
   "display_name": "Python 3",
   "language": "python",
   "name": "python3"
  },
  "language_info": {
   "codemirror_mode": {
    "name": "ipython",
    "version": 3
   },
   "file_extension": ".py",
   "mimetype": "text/x-python",
   "name": "python",
   "nbconvert_exporter": "python",
   "pygments_lexer": "ipython3",
   "version": "3.7.6"
  }
 },
 "nbformat": 4,
 "nbformat_minor": 4
}
