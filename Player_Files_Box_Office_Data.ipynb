{
 "cells": [
  {
   "cell_type": "markdown",
   "metadata": {},
   "source": [
    "## Creating Individual Player CSV Files From Box Office Data Set "
   ]
  },
  {
   "cell_type": "markdown",
   "metadata": {},
   "source": [
    "### Importing required libraries"
   ]
  },
  {
   "cell_type": "code",
   "execution_count": 1,
   "metadata": {},
   "outputs": [],
   "source": [
    "import pandas as pd\n",
    "import numpy as np\n",
    "import os\n",
    "import time"
   ]
  },
  {
   "cell_type": "markdown",
   "metadata": {},
   "source": [
    "### Define the path for dated box office data is stored as well as the path to write the individual player files to\n",
    "<b><u> Note: </u></b> The path structure must be as follows. Also note that 201X individual player directories are empty directories created to have individual player files written to them by year.:\n",
    "- File_path_to_data_directory\n",
    "    - Box_Office\n",
    "        - 2015_Box_Office\n",
    "        - 2015_Box_Office_Individual_Players\n",
    "        - 2016_Box_Office\n",
    "        - 2016_Box_Office_Individual_Players\n",
    "        - 2017_Box_Office\n",
    "        - 2017_Box_Office_Individual_Players\n",
    "        - 2018_Box_Office\n",
    "        - 2018_Box_Office_Individual_Players\n",
    "        - 2019_Box_Office\n",
    "        - 2019_Box_Office_Individual_Players"
   ]
  },
  {
   "cell_type": "markdown",
   "metadata": {},
   "source": [
    "### Define the following information and run all cells"
   ]
  },
  {
   "cell_type": "code",
   "execution_count": 3,
   "metadata": {},
   "outputs": [],
   "source": [
    "year = 2016\n",
    "file_path_to_data_directory = '/Users/carlylagrotta/Dropbox/Columbia/Fall_2020_Semester/Data_Science/Data_Science_For_Mechanical_Systems/Box_Office/'+str(year)+'_Box_Office'\n",
    "path_to_write = '/Users/carlylagrotta/Dropbox/Columbia/Fall_2020_Semester/Data_Science/Data_Science_For_Mechanical_Systems/Box_Office/'+str(year)+'_Box_Office_Individual_Players'"
   ]
  },
  {
   "cell_type": "markdown",
   "metadata": {},
   "source": [
    "### Function to extract the date from a file name and turn in into a date time object  "
   ]
  },
  {
   "cell_type": "code",
   "execution_count": 4,
   "metadata": {},
   "outputs": [],
   "source": [
    "def get_date_fom_file_string(file_name,year):\n",
    "    month_dict = {'January':1,\n",
    "                 'February':2,\n",
    "                 'March':3,\n",
    "                 'April':4,\n",
    "                 'May':5,\n",
    "                 'June':6,\n",
    "                 'July':7,\n",
    "                 'August':8,\n",
    "                 'September':9,\n",
    "                 'October':10,\n",
    "                 'November':11,\n",
    "                 'December':12}\n",
    "    temp = file_name.split(',')[2].split('.')[0]    \n",
    "\n",
    "    \n",
    "    if  temp.strip() == str(year).strip():\n",
    "        year = year\n",
    "        date_temp = file_name.split(',')[1]\n",
    "        month = date_temp.split(' ')[1]\n",
    "        month = month_dict[month]\n",
    "        day  = date_temp.split(' ')[2]   \n",
    "        \n",
    "        if day == '':\n",
    "            day = int(date_temp.split(' ')[3])\n",
    "        else:\n",
    "            day = int(date_temp.split(' ')[2]) \n",
    "        \n",
    "    else:\n",
    "        date =temp.split('.')[0]\n",
    "        date = date.replace(\" \", \"_\")\n",
    "        date = date.replace('__','_')\n",
    "        date = date + '_'+str(year)    \n",
    "        date = date[1:]\n",
    "\n",
    "\n",
    "        year = date.split('_')[2]\n",
    "        day = date.split('_')[1]\n",
    "        month = date.split('_')[0]\n",
    "        month = month_dict[month]\n",
    "\n",
    "\n",
    "\n",
    "    df = pd.DataFrame({'year': [int(year)],\n",
    "                        'month': [int(month)],\n",
    "                        'day': [int(day)]})\n",
    "    df = pd.to_datetime(df)\n",
    "    date_time = df[0].date()\n",
    "\n",
    "    \n",
    "    \n",
    "    \n",
    "    return date_time"
   ]
  },
  {
   "cell_type": "markdown",
   "metadata": {},
   "source": [
    "### Function to create a set of batters names for a given season with no repeated names"
   ]
  },
  {
   "cell_type": "code",
   "execution_count": 5,
   "metadata": {},
   "outputs": [],
   "source": [
    "def get_list_of_player_names(path):\n",
    "    #directory_contents = [ name for name in os.listdir(path) if os.path.isdir(os.path.join(path, name)) ]\n",
    "    player_master_list_2018=[]\n",
    "    for i,game in enumerate(os.listdir(path)):\n",
    "        #print((path+'/'+str(directory)))\n",
    "        combined_variable = path+'/'+str(game)\n",
    "        if combined_variable.endswith('.csv'):\n",
    "            df_temp = pd.read_csv(path+'/'+str(game))\n",
    "            player_master_list_2018.append(df_temp['Batting'].to_list())\n",
    "\n",
    "\n",
    "    flattened = [val for sublist in player_master_list_2018 for val in sublist]\n",
    "    individual_names=list(set(flattened)) \n",
    "    individual_names_filter_out_floats = []\n",
    "    for name in individual_names:\n",
    "        if type(name)==str:\n",
    "            individual_names_filter_out_floats.append(name)\n",
    "            \n",
    "    return individual_names_filter_out_floats"
   ]
  },
  {
   "cell_type": "markdown",
   "metadata": {},
   "source": [
    "### Function to loop over csv files for individual game dates in a season and create Pandas data frames that are instead specific to individual players (while still storing the date for a specific performance by the player in the file)"
   ]
  },
  {
   "cell_type": "code",
   "execution_count": 6,
   "metadata": {},
   "outputs": [],
   "source": [
    "def get_list_of_player_df(path,individual_names,year=2016):\n",
    "    directory_contents = [ name for name in os.listdir(path) if os.path.isdir(os.path.join(path, name)) ]\n",
    "\n",
    "    list_of_data_frames=[]\n",
    "    for jj, player_name in enumerate(individual_names):\n",
    "        player_df = []\n",
    "        for i,game in enumerate(os.listdir(path)):\n",
    "            combined_variable = path+'/'+str(game)\n",
    "            if combined_variable.endswith('.csv'):\n",
    "                df_temp = pd.read_csv(path+'/'+str(game))\n",
    "                df_temp = df_temp.drop(['Unnamed: 0'], axis=1)\n",
    "                date = get_date_fom_file_string(game,year)\n",
    "                df_temp['Date'] = [date]*df_temp.shape[0]\n",
    "                df_temp = df_temp.fillna(value='False')\n",
    "                player_name = str(player_name)\n",
    "                df1 = df_temp[df_temp['Batting'].str.contains(player_name)] \n",
    "                if not df1.empty:\n",
    "                    player_df.append(df1)\n",
    "                    \n",
    "        list_of_data_frames.append(pd.concat(player_df,ignore_index=True))\n",
    "    return list_of_data_frames"
   ]
  },
  {
   "cell_type": "markdown",
   "metadata": {},
   "source": [
    "### Function to write the player specific data frames to csv files"
   ]
  },
  {
   "cell_type": "code",
   "execution_count": 45,
   "metadata": {},
   "outputs": [],
   "source": [
    "def write_list_of_player_df(path_to_write,list_of_data_frames):\n",
    "    for df in list_of_data_frames:\n",
    "        name = df['Batting'][0]\n",
    "        name = name.replace(\" \", \"_\")\n",
    "        df.to_csv(path_to_write+'/'+name+'.csv')"
   ]
  },
  {
   "cell_type": "markdown",
   "metadata": {},
   "source": [
    "### Calling all functions and running"
   ]
  },
  {
   "cell_type": "code",
   "execution_count": null,
   "metadata": {},
   "outputs": [],
   "source": [
    "individual_names = get_list_of_player_names(file_path_to_data_directory)\n",
    "list_of_data_frames = get_list_of_player_df(file_path_to_data_directory,individual_names,year=year)\n",
    "write_list_of_player_df(path_to_write,list_of_data_frames)"
   ]
  }
 ],
 "metadata": {
  "kernelspec": {
   "display_name": "Python 3",
   "language": "python",
   "name": "python3"
  },
  "language_info": {
   "codemirror_mode": {
    "name": "ipython",
    "version": 3
   },
   "file_extension": ".py",
   "mimetype": "text/x-python",
   "name": "python",
   "nbconvert_exporter": "python",
   "pygments_lexer": "ipython3",
   "version": "3.7.6"
  }
 },
 "nbformat": 4,
 "nbformat_minor": 4
}
