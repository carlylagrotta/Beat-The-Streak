{
 "cells": [
  {
   "cell_type": "markdown",
   "metadata": {},
   "source": [
    "## Put All Birthday Data Into Single CSV"
   ]
  },
  {
   "cell_type": "markdown",
   "metadata": {},
   "source": [
    "### Importing required libraries"
   ]
  },
  {
   "cell_type": "code",
   "execution_count": 1,
   "metadata": {},
   "outputs": [],
   "source": [
    "import pandas as pd\n",
    "import numpy as np\n",
    "import os\n",
    "import time"
   ]
  },
  {
   "cell_type": "markdown",
   "metadata": {},
   "source": [
    "### Define the path which the data directories are stored this is where the final file will be written\n",
    "<b><u> Note: </u></b> The path structure must be as follows:\n",
    "- Path\n",
    "    - Birthday\n",
    "        - 1\n",
    "        - 2\n",
    "        - 3\n",
    "        - 4\n",
    "        - 5\n",
    "        - 6\n",
    "        - 7\n",
    "        - 8\n",
    "        - 9\n",
    "        - 10\n",
    "        - 11\n",
    "        - 12"
   ]
  },
  {
   "cell_type": "markdown",
   "metadata": {},
   "source": [
    "### Define the following information and run all cells "
   ]
  },
  {
   "cell_type": "code",
   "execution_count": 2,
   "metadata": {},
   "outputs": [],
   "source": [
    "path = '/Users/carlylagrotta/Dropbox/Columbia/Fall_2020_Semester/Data_Science/Data_Science_For_Mechanical_Systems/Birthday'"
   ]
  },
  {
   "cell_type": "markdown",
   "metadata": {},
   "source": [
    "### Function to create list of data frames for individual players ages and years for experience  from data stored in directory"
   ]
  },
  {
   "cell_type": "code",
   "execution_count": 26,
   "metadata": {},
   "outputs": [],
   "source": [
    "def get_list_of_data_frames(path):\n",
    "    data_frame_list = []\n",
    "    directory_contents = [ name for name in os.listdir(path) if os.path.isdir(os.path.join(path, name)) ]\n",
    "    for directory in directory_contents:\n",
    "        for i,date in enumerate(os.listdir(path+'/'+str(directory))):\n",
    "            combined_variable = path+'/'+str(directory)+'/'+str(date)\n",
    "            if combined_variable.endswith('.csv'):\n",
    "                df_temp = pd.read_csv(path+'/'+str(directory)+'/'+str(date))\n",
    "                data_frame_list.append(df_temp)\n",
    "            \n",
    "    return data_frame_list\n",
    "            \n",
    "\n",
    "\n",
    "        "
   ]
  },
  {
   "cell_type": "markdown",
   "metadata": {},
   "source": [
    "### Function to combine list of data frames"
   ]
  },
  {
   "cell_type": "code",
   "execution_count": 27,
   "metadata": {},
   "outputs": [],
   "source": [
    "def combine_df_list(df_list):\n",
    "    concatianted_df = pd.concat(df_list,ignore_index=True)\n",
    "    concatianted_df= concatianted_df.drop_duplicates(subset = 'Name')\n",
    "    return concatianted_df"
   ]
  },
  {
   "cell_type": "markdown",
   "metadata": {},
   "source": [
    "### Function to write birthday data frame to csv"
   ]
  },
  {
   "cell_type": "code",
   "execution_count": 28,
   "metadata": {},
   "outputs": [],
   "source": [
    "def write_df(df,path):\n",
    "    df.to_csv(path+'/'+'master_birthday_list.csv')"
   ]
  },
  {
   "cell_type": "markdown",
   "metadata": {},
   "source": [
    "### Calling all the functions to build and write birthday data frame"
   ]
  },
  {
   "cell_type": "code",
   "execution_count": 41,
   "metadata": {},
   "outputs": [],
   "source": [
    "data_frame_list = get_list_of_data_frames(path)\n",
    "concatianted_df = combine_df_list(data_frame_list)\n",
    "write_df(concatianted_df,path)"
   ]
  }
 ],
 "metadata": {
  "kernelspec": {
   "display_name": "Python 3",
   "language": "python",
   "name": "python3"
  },
  "language_info": {
   "codemirror_mode": {
    "name": "ipython",
    "version": 3
   },
   "file_extension": ".py",
   "mimetype": "text/x-python",
   "name": "python",
   "nbconvert_exporter": "python",
   "pygments_lexer": "ipython3",
   "version": "3.7.6"
  }
 },
 "nbformat": 4,
 "nbformat_minor": 4
}
